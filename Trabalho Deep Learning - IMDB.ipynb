{
 "cells": [
  {
   "cell_type": "markdown",
   "metadata": {},
   "source": [
    "## Trabalho de Deep Learning\n",
    "\n",
    "### Classificação de textos para análise de sentimentos\n",
    "\n",
    "#### Aluno: Rafael Bertoldi Rossi\n",
    "\n",
    "- O objetivo deste trabalho é criar um modelo binário de aprendizado de máquina para classificação de textos. \n",
    "Para isso, será utilizado a base de dados [IMDb](http://ai.stanford.edu/~amaas/data/sentiment/), que consiste de dados textuais de críticas positivas e negativas de filmes"
   ]
  },
  {
   "cell_type": "code",
   "execution_count": null,
   "metadata": {},
   "outputs": [],
   "source": [
    "!pip install spacy\n",
    "!python -m spacy download en_core_web_sm"
   ]
  },
  {
   "cell_type": "markdown",
   "metadata": {},
   "source": [
    "## Import das bibliotecas"
   ]
  },
  {
   "cell_type": "code",
   "execution_count": 1,
   "metadata": {
    "id": "0Dfs3NSO_QRx"
   },
   "outputs": [],
   "source": [
    "from torchtext.legacy import datasets\n",
    "from torchtext.legacy import data\n",
    "import torch\n",
    "import torch.optim as optim\n",
    "import torch.nn as nn\n",
    "import random\n",
    "import spacy\n",
    "import pickle"
   ]
  },
  {
   "cell_type": "markdown",
   "metadata": {},
   "source": [
    "## Carregamento da base de dados IMDB\n",
    "\n",
    "Utilizando o spaCy Tokenizer - open source utilizado para tokenizar grandes quantidades de dados"
   ]
  },
  {
   "cell_type": "code",
   "execution_count": 2,
   "metadata": {},
   "outputs": [],
   "source": [
    "torch.manual_seed(9876)\n",
    "torch.backends.cudnn.deterministic = True\n",
    "\n",
    "text = data.Field(tokenize = 'spacy',\n",
    "                  tokenizer_language = 'en_core_web_sm',\n",
    "                  include_lengths = True)\n",
    "\n",
    "label = data.LabelField(dtype = torch.float)"
   ]
  },
  {
   "cell_type": "markdown",
   "metadata": {},
   "source": [
    "Separação entre Treinamento, Validação e Teste"
   ]
  },
  {
   "cell_type": "code",
   "execution_count": 3,
   "metadata": {
    "colab": {
     "base_uri": "https://localhost:8080/"
    },
    "id": "HBG9c0j-_QRy",
    "outputId": "134d88a1-c6dd-4025-8f21-ca8b722c5246"
   },
   "outputs": [],
   "source": [
    "train, test = datasets.IMDB.splits(text, label)\n",
    "train, validation = train.split(random_state = random.seed(9876))"
   ]
  },
  {
   "cell_type": "markdown",
   "metadata": {},
   "source": [
    "Utilizando 10 mil 'word embeddings' pré-treinadas para otimizar o tempo de processamento e qualidade do modelo, já que haverão mais palavras com significados parecidos e uma conexão inicial já pré-estabelecida."
   ]
  },
  {
   "cell_type": "code",
   "execution_count": 4,
   "metadata": {
    "colab": {
     "base_uri": "https://localhost:8080/"
    },
    "id": "CSWxcJ9O_QR0",
    "outputId": "41b86d09-f058-4780-aaac-0a61e676fcd6"
   },
   "outputs": [],
   "source": [
    "text.build_vocab(train, \n",
    "                 max_size = 10_000, \n",
    "                 vectors = \"glove.6B.100d\", \n",
    "                 unk_init = torch.Tensor.normal_)\n",
    "\n",
    "label.build_vocab(train)"
   ]
  },
  {
   "cell_type": "markdown",
   "metadata": {},
   "source": [
    "Configuração dos iterators e configurando para rodar em CPU e ordenação de cada batch através da sua dimensão."
   ]
  },
  {
   "cell_type": "code",
   "execution_count": 5,
   "metadata": {
    "id": "wT_wqRon_QR1"
   },
   "outputs": [],
   "source": [
    "train_iterator, valid_iterator, test_iterator = data.BucketIterator.splits(\n",
    "    (train, validation, test), \n",
    "    batch_size=64,\n",
    "    sort_within_batch=True,\n",
    "    device = 'cpu')"
   ]
  },
  {
   "cell_type": "markdown",
   "metadata": {},
   "source": [
    "## Criação do Modelo\n",
    "\n",
    "Utilizada uma LSTM bidirecional, adicionando uma camada de dropout para evitar o overfitting. 256 neurônios na camada oculta e apenas 1 na saída por se tratar de um modelo de classificação binária. "
   ]
  },
  {
   "cell_type": "code",
   "execution_count": 6,
   "metadata": {
    "id": "R5ZegvN__QR5"
   },
   "outputs": [],
   "source": [
    "class LSTM(nn.Module):\n",
    "    def __init__(self, vocab_size, embedding_dim, hidden_dim, output_dim, n_layers, \n",
    "                 bidirectional, dropout, pad_idx):\n",
    "        \n",
    "        super().__init__()\n",
    "        \n",
    "        self.embedding = nn.Embedding(vocab_size, embedding_dim, padding_idx = pad_idx)\n",
    "        self.rnn = nn.LSTM(embedding_dim, hidden_dim, num_layers=n_layers, bidirectional=bidirectional, dropout=dropout)\n",
    "        self.fc = nn.Linear(hidden_dim * 2, output_dim)\n",
    "        self.dropout = nn.Dropout(dropout)\n",
    "        \n",
    "    def forward(self, text, text_lengths):\n",
    "        \n",
    "        embedded = self.dropout(self.embedding(text))\n",
    "        packed_embedded = nn.utils.rnn.pack_padded_sequence(embedded, text_lengths.to('cpu')) \n",
    "        packed_output, (hidden, cell) = self.rnn(packed_embedded)\n",
    "        output, output_lengths = nn.utils.rnn.pad_packed_sequence(packed_output)     \n",
    "        hidden = self.dropout(torch.cat((hidden[-2,:,:], hidden[-1,:,:]), dim = 1))\n",
    "            \n",
    "        return self.fc(hidden)"
   ]
  },
  {
   "cell_type": "markdown",
   "metadata": {},
   "source": [
    "Inicialização do modelo"
   ]
  },
  {
   "cell_type": "code",
   "execution_count": 7,
   "metadata": {},
   "outputs": [],
   "source": [
    "model = LSTM(vocab_size=len(text.vocab),\n",
    "             embedding_dim=100,\n",
    "             hidden_dim=64,\n",
    "             output_dim=1,\n",
    "             n_layers=2,\n",
    "             bidirectional=True,\n",
    "             dropout=0.2,\n",
    "             pad_idx=text.vocab.stoi[text.pad_token])"
   ]
  },
  {
   "cell_type": "markdown",
   "metadata": {},
   "source": [
    "Cópia das palavras pré-treinadas para a camdada de embedding."
   ]
  },
  {
   "cell_type": "code",
   "execution_count": 8,
   "metadata": {
    "colab": {
     "base_uri": "https://localhost:8080/"
    },
    "id": "TJmnOZMy_QR7",
    "outputId": "89baeb50-87f6-4cb5-8562-c878d2254c32"
   },
   "outputs": [],
   "source": [
    "model.embedding.weight.data.copy_(text.vocab.vectors)\n",
    "model.embedding.weight.data[text.vocab.stoi[text.unk_token]] = torch.zeros(100)\n",
    "model.embedding.weight.data[text.vocab.stoi[text.pad_token]] = torch.zeros(100)"
   ]
  },
  {
   "cell_type": "markdown",
   "metadata": {},
   "source": [
    "## Treinamento do modelo\n",
    "\n",
    "Configurando otimizador Adam por ser o mais recomendado devido aos excelentes resultados e critério de loss ideal para problemas de classificação binária."
   ]
  },
  {
   "cell_type": "code",
   "execution_count": 9,
   "metadata": {
    "id": "zIbI0Myz_QR8"
   },
   "outputs": [],
   "source": [
    "optimizer = torch.optim.Adam(model.parameters())\n",
    "criterion = nn.BCEWithLogitsLoss()\n",
    "model = model.to('cpu')\n",
    "criterion = criterion.to('cpu')"
   ]
  },
  {
   "cell_type": "code",
   "execution_count": 10,
   "metadata": {
    "id": "LdqM2f93_QR8"
   },
   "outputs": [],
   "source": [
    "def binary_accuracy(preds, y):\n",
    "\n",
    "    rounded_preds = torch.round(torch.sigmoid(preds))\n",
    "    correct = (rounded_preds == y).float()\n",
    "    acc = correct.sum() / len(correct)\n",
    "    return acc\n",
    "\n",
    "\n",
    "def train_model(model, iterator, optimizer, criterion):\n",
    "    \n",
    "    epoch_loss = 0\n",
    "    epoch_acc = 0\n",
    "    \n",
    "    model.train()\n",
    "    \n",
    "    for batch in iterator:\n",
    "        \n",
    "        optimizer.zero_grad()\n",
    "        text, text_lengths = batch.text\n",
    "        predictions = model(text, text_lengths).squeeze(1)\n",
    "        loss = criterion(predictions, batch.label)\n",
    "        acc = binary_accuracy(predictions, batch.label)\n",
    "        loss.backward()\n",
    "        optimizer.step()\n",
    "        \n",
    "        epoch_loss += loss.item()\n",
    "        epoch_acc += acc.item()\n",
    "        \n",
    "    return epoch_loss / len(iterator), epoch_acc / len(iterator)\n",
    "\n",
    "def evaluate_model(model, iterator, criterion):\n",
    "    \n",
    "    epoch_loss = 0\n",
    "    epoch_acc = 0\n",
    "    \n",
    "    model.eval()\n",
    "    \n",
    "    with torch.no_grad():\n",
    "    \n",
    "        for batch in iterator:\n",
    "            text, text_lengths = batch.text\n",
    "            predictions = model(text, text_lengths).squeeze(1)\n",
    "            loss = criterion(predictions, batch.label)\n",
    "            acc = binary_accuracy(predictions, batch.label)\n",
    "            epoch_loss += loss.item()\n",
    "            epoch_acc += acc.item()\n",
    "        \n",
    "    return epoch_loss / len(iterator), epoch_acc / len(iterator)"
   ]
  },
  {
   "cell_type": "code",
   "execution_count": 11,
   "metadata": {},
   "outputs": [],
   "source": [
    "num_epochs = 5\n",
    "best_loss = 99999"
   ]
  },
  {
   "cell_type": "code",
   "execution_count": 12,
   "metadata": {
    "colab": {
     "base_uri": "https://localhost:8080/"
    },
    "id": "udbRhTXK_QR9",
    "outputId": "1f4e3f22-a79b-4d10-dc2c-59163e4872d8"
   },
   "outputs": [
    {
     "name": "stdout",
     "output_type": "stream",
     "text": [
      "Epoch  0\n",
      "### Resultados na base Treino ###\n",
      "Erro Treino: 0.6441287733342526\n",
      "Acurácia Treino: 61.914266156454154\n",
      "\n",
      "### Resultados na base Validação ###\n",
      "Erro Validação: 0.518243092096458\n",
      "Acurácia Validação: 75.03972457627118\n",
      "--------------------------------------------------\n",
      "Epoch  1\n",
      "### Resultados na base Treino ###\n",
      "Erro Treino: 0.5191471068745982\n",
      "Acurácia Treino: 74.92097888114678\n",
      "\n",
      "### Resultados na base Validação ###\n",
      "Erro Validação: 0.6089460319381649\n",
      "Acurácia Validação: 71.1555438021482\n",
      "--------------------------------------------------\n",
      "Epoch  2\n",
      "### Resultados na base Treino ###\n",
      "Erro Treino: 0.512078031027404\n",
      "Acurácia Treino: 75.2223996350365\n",
      "\n",
      "### Resultados na base Validação ###\n",
      "Erro Validação: 0.4884545214600482\n",
      "Acurácia Validação: 76.48305084745762\n",
      "--------------------------------------------------\n",
      "Epoch  3\n",
      "### Resultados na base Treino ###\n",
      "Erro Treino: 0.40568940428486705\n",
      "Acurácia Treino: 82.2992700729927\n",
      "\n",
      "### Resultados na base Validação ###\n",
      "Erro Validação: 0.42101279305199446\n",
      "Acurácia Validação: 82.04890535039416\n",
      "--------------------------------------------------\n",
      "Epoch  4\n",
      "### Resultados na base Treino ###\n",
      "Erro Treino: 0.4356349932886388\n",
      "Acurácia Treino: 80.25531153174212\n",
      "\n",
      "### Resultados na base Validação ###\n",
      "Erro Validação: 0.3400770785697436\n",
      "Acurácia Validação: 86.08757060463145\n",
      "--------------------------------------------------\n"
     ]
    }
   ],
   "source": [
    "for epoch in range(num_epochs):\n",
    "    \n",
    "    train_loss, train_acc = train_model(model, train_iterator, optimizer, criterion)\n",
    "    valid_loss, valid_acc = evaluate_model(model, valid_iterator, criterion)\n",
    "    \n",
    "    # Salvar melhor estado do modelo\n",
    "    if valid_loss < best_loss:\n",
    "        best_loss = valid_loss\n",
    "        torch.save(model.state_dict(), 'melhor_modelo.pt')\n",
    "        \n",
    "    print('Epoch ', epoch)\n",
    "    print('### Resultados na base Treino ###')\n",
    "    print('Erro Treino:', train_loss)\n",
    "    print('Acurácia Treino:', train_acc*100)\n",
    "    print('')\n",
    "    print('### Resultados na base Validação ###')\n",
    "    print('Erro Validação:', valid_loss)\n",
    "    print('Acurácia Validação:', valid_acc*100)\n",
    "    print(50 * '-')"
   ]
  },
  {
   "cell_type": "markdown",
   "metadata": {},
   "source": [
    "Salvar modelo"
   ]
  },
  {
   "cell_type": "code",
   "execution_count": 13,
   "metadata": {},
   "outputs": [],
   "source": [
    "pickle.dump(model, open('model.pkl', 'wb'))"
   ]
  },
  {
   "cell_type": "markdown",
   "metadata": {},
   "source": [
    "## Carregar modelo salvo e fazer previsão"
   ]
  },
  {
   "cell_type": "code",
   "execution_count": 14,
   "metadata": {},
   "outputs": [],
   "source": [
    "model = pickle.load(open('model.pkl', 'rb'))"
   ]
  },
  {
   "cell_type": "code",
   "execution_count": 15,
   "metadata": {
    "id": "30JcXeXZ_QR9"
   },
   "outputs": [
    {
     "name": "stdout",
     "output_type": "stream",
     "text": [
      "### Resultados na base Treino ###\n",
      "Erro Treino: 0.35210989831048817\n",
      "Acurácia Treino: 85.43478261174448\n"
     ]
    }
   ],
   "source": [
    "model.load_state_dict(torch.load('melhor_modelo.pt'))\n",
    "test_loss, test_acc = evaluate_model(model, test_iterator, criterion)\n",
    "\n",
    "print('### Resultados na base Treino ###')\n",
    "print('Erro Treino:', test_loss)\n",
    "print('Acurácia Treino:', test_acc*100)"
   ]
  },
  {
   "cell_type": "code",
   "execution_count": 16,
   "metadata": {
    "id": "jjFj5EcQ_QR-"
   },
   "outputs": [],
   "source": [
    "nlp = spacy.load('en_core_web_sm')\n",
    "\n",
    "def predict_sentiment(model, sentence):\n",
    "    model.eval()\n",
    "    tokenized = [token.text for token in nlp.tokenizer(sentence)]\n",
    "    indexed = [text.vocab.stoi[t] for t in tokenized]\n",
    "    length = [len(indexed)]\n",
    "    tensor = torch.LongTensor(indexed).to('cpu')\n",
    "    tensor = tensor.unsqueeze(1)\n",
    "    length_tensor = torch.LongTensor(length)\n",
    "    prediction = torch.sigmoid(model(tensor, length_tensor))\n",
    "    return prediction.item()"
   ]
  },
  {
   "cell_type": "code",
   "execution_count": 17,
   "metadata": {
    "id": "Oy6VrNW1_QR-"
   },
   "outputs": [
    {
     "data": {
      "text/plain": [
       "0.980079710483551"
      ]
     },
     "execution_count": 17,
     "metadata": {},
     "output_type": "execute_result"
    }
   ],
   "source": [
    "predict_sentiment(model, \"This movie is terrible\")"
   ]
  },
  {
   "cell_type": "code",
   "execution_count": 18,
   "metadata": {
    "id": "bxI5jjv4_QR-"
   },
   "outputs": [
    {
     "data": {
      "text/plain": [
       "0.08272780478000641"
      ]
     },
     "execution_count": 18,
     "metadata": {},
     "output_type": "execute_result"
    }
   ],
   "source": [
    "predict_sentiment(model, \"This movie is very good\")"
   ]
  }
 ],
 "metadata": {
  "colab": {
   "name": "Cópia de 2 - Upgraded Sentiment Analysis.ipynb",
   "provenance": []
  },
  "kernelspec": {
   "display_name": "Python 3",
   "language": "python",
   "name": "python3"
  },
  "language_info": {
   "codemirror_mode": {
    "name": "ipython",
    "version": 3
   },
   "file_extension": ".py",
   "mimetype": "text/x-python",
   "name": "python",
   "nbconvert_exporter": "python",
   "pygments_lexer": "ipython3",
   "version": "3.8.8"
  }
 },
 "nbformat": 4,
 "nbformat_minor": 1
}
